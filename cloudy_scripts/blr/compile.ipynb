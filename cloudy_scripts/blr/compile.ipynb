{
 "cells": [
  {
   "cell_type": "code",
   "execution_count": 2,
   "id": "e5a6035f",
   "metadata": {},
   "outputs": [],
   "source": [
    "import numpy as np\n",
    "from astropy.table import Table\n",
    "import matplotlib.pyplot as plt\n",
    "import pandas as pd\n",
    "from cloudy_fit_lib import *\n",
    "from scipy.interpolate import RegularGridInterpolator\n",
    "import pickle"
   ]
  },
  {
   "cell_type": "code",
   "execution_count": 3,
   "id": "db38b0ba",
   "metadata": {},
   "outputs": [],
   "source": [
    "rootdir = '/home/gayatri/Documents/cloudy_scripts/blr/grids/'"
   ]
  },
  {
   "cell_type": "code",
   "execution_count": 4,
   "id": "ffe26f81",
   "metadata": {},
   "outputs": [],
   "source": [
    "hm12_z_grid, hm12_wav_grid, hm12_J_nu_grid = read_uvb('', 'hm12_galaxy.ascii')"
   ]
  },
  {
   "cell_type": "markdown",
   "id": "a2a19598",
   "metadata": {},
   "source": [
    "Fetch the SED at $z=0.45$."
   ]
  },
  {
   "cell_type": "code",
   "execution_count": 9,
   "id": "66474b78",
   "metadata": {},
   "outputs": [],
   "source": [
    "z_test = 0.45\n",
    "hm12_J_nu_test = fetch_sed(z_test, hm12_z_grid, hm12_J_nu_grid)"
   ]
  },
  {
   "cell_type": "markdown",
   "id": "144fed6e",
   "metadata": {},
   "source": [
    "For a grid of N_HI values."
   ]
  },
  {
   "cell_type": "code",
   "execution_count": 45,
   "id": "d8183a62",
   "metadata": {},
   "outputs": [
    {
     "data": {
      "text/plain": [
       "'igm_lalpha_hm12_grid_1200'"
      ]
     },
     "execution_count": 45,
     "metadata": {},
     "output_type": "execute_result"
    }
   ],
   "source": [
    "logN_HI_min_main = 12\n",
    "logN_HI_max_main = 12.25\n",
    "logN_HI_step_main = 0.25\n",
    "\n",
    "logN_HI_arr_main = np.arange(logN_HI_min_main, logN_HI_max_main+logN_HI_step_main, logN_HI_step_main)\n",
    "file_list_main = create_grid_file_list(logN_HI_arr_main)\n",
    "file_list_main[0]"
   ]
  },
  {
   "cell_type": "code",
   "execution_count": 46,
   "id": "ba372a51",
   "metadata": {},
   "outputs": [],
   "source": [
    "log_hdens_min_main = -4.25\n",
    "log_hdens_max_main = 1\n",
    "log_hdens_step_main = 0.25\n",
    "log_hdens_arr_main = np.arange(log_hdens_min_main, log_hdens_max_main+log_hdens_step_main, log_hdens_step_main)\n",
    "\n",
    "log_metals_min_main = -0.25\n",
    "log_metals_max_main = 1\n",
    "log_metals_step_main = 0.25\n",
    "log_metals_arr_main = np.arange(log_metals_min_main, log_metals_max_main+log_metals_step_main, log_metals_step_main)"
   ]
  },
  {
   "cell_type": "code",
   "execution_count": 47,
   "id": "0ad246db",
   "metadata": {},
   "outputs": [
    {
     "data": {
      "text/plain": [
       "264"
      ]
     },
     "execution_count": 47,
     "metadata": {},
     "output_type": "execute_result"
    }
   ],
   "source": [
    "len(logN_HI_arr_main)*len(log_hdens_arr_main)*len(log_metals_arr_main)"
   ]
  },
  {
   "cell_type": "markdown",
   "id": "d5ede98c",
   "metadata": {},
   "source": [
    "Process the grid to identify \"failures\""
   ]
  },
  {
   "cell_type": "code",
   "execution_count": 48,
   "id": "984d9afd",
   "metadata": {},
   "outputs": [],
   "source": [
    "log_T_pie_thresh = 4\n",
    "\n",
    "# Bifurcate failures based on stopping temperature\n",
    "low_temp_failures = []\n",
    "high_temp_failures = []"
   ]
  },
  {
   "cell_type": "code",
   "execution_count": 49,
   "id": "504942aa",
   "metadata": {},
   "outputs": [
    {
     "name": "stderr",
     "output_type": "stream",
     "text": [
      "/home/gayatri/Documents/cloudy_scripts/blr/cloudy_fit_lib.py:434: RuntimeWarning: divide by zero encountered in log10\n",
      "  log_col_dens = np.log10(np.array(col_lines_split[1::2], dtype=float))\n",
      "/home/gayatri/Documents/cloudy_scripts/blr/cloudy_fit_lib.py:434: RuntimeWarning: divide by zero encountered in log10\n",
      "  log_col_dens = np.log10(np.array(col_lines_split[1::2], dtype=float))\n"
     ]
    }
   ],
   "source": [
    "for i in range(len(logN_HI_arr_main)):\n",
    "    logN_HI = logN_HI_arr_main[i]\n",
    "\n",
    "    # The filename corresponding to the current stopping HI column density\n",
    "    filename = file_list_main[i]\n",
    "\n",
    "    # Get list of densities and metallicities for this stopping HI column density \n",
    "    log_hdens_grid, log_metals_grid = read_grd_file(rootdir, filename)\n",
    "\n",
    "    # Get average (log) HI temperatures for all grid points\n",
    "    log_temps_grid = read_avr_file(rootdir, filename)\n",
    "\n",
    "    # Get column densities for all species\n",
    "    species_names, log_col_dens_grid = read_col_file(rootdir, filename)\n",
    "\n",
    "    for j in range(len(log_hdens_arr_main)):\n",
    "        \n",
    "        log_hdens = log_hdens_arr_main[j]\n",
    "        \n",
    "        for k in range(len(log_metals_arr_main)):\n",
    "            \n",
    "            log_metals = log_metals_arr_main[k]\n",
    "            \n",
    "            # Get grid index number for the current n_H and metallicity\n",
    "            idx = np.intersect1d(np.where(log_hdens_grid==log_hdens)[0], np.where(log_metals_grid==log_metals)[0])[0]\n",
    "            \n",
    "            # Isolate the average temperature and column density for all species\n",
    "            log_temp = log_temps_grid[idx]\n",
    "            log_col_dens = log_col_dens_grid[idx]\n",
    "            \n",
    "            # Check if this grid point is a failure\n",
    "            if np.round(log_col_dens[0],2) != logN_HI:\n",
    "                # Categorize based on temperature\n",
    "                if log_temp<log_T_pie_thresh:\n",
    "                    low_temp_failures.append([logN_HI, log_hdens, log_metals, log_temp, log_col_dens[0]])\n",
    "                else:\n",
    "                    high_temp_failures.append([logN_HI, log_hdens, log_metals, log_temp, log_col_dens[0]])"
   ]
  },
  {
   "cell_type": "code",
   "execution_count": 50,
   "id": "32cf720f",
   "metadata": {},
   "outputs": [],
   "source": [
    "low_temp_failures = np.array(low_temp_failures)\n",
    "high_temp_failures = np.array(high_temp_failures)"
   ]
  },
  {
   "cell_type": "code",
   "execution_count": 51,
   "id": "af66b384",
   "metadata": {},
   "outputs": [
    {
     "data": {
      "text/plain": [
       "(0, 0)"
      ]
     },
     "execution_count": 51,
     "metadata": {},
     "output_type": "execute_result"
    }
   ],
   "source": [
    "len(low_temp_failures), len(high_temp_failures)"
   ]
  },
  {
   "cell_type": "markdown",
   "id": "f5b5a328",
   "metadata": {},
   "source": [
    "No failures, moving on."
   ]
  },
  {
   "cell_type": "code",
   "execution_count": 58,
   "id": "3526898e",
   "metadata": {},
   "outputs": [],
   "source": [
    "species_logN_samples_final = {}\n",
    "logT_grid_final = np.zeros((len(logN_HI_arr_main), len(log_hdens_arr_main), len(log_metals_arr_main)))"
   ]
  },
  {
   "cell_type": "code",
   "execution_count": 59,
   "id": "701a10c0",
   "metadata": {},
   "outputs": [
    {
     "name": "stderr",
     "output_type": "stream",
     "text": [
      "/home/gayatri/Documents/cloudy_scripts/blr/cloudy_fit_lib.py:434: RuntimeWarning: divide by zero encountered in log10\n",
      "  log_col_dens = np.log10(np.array(col_lines_split[1::2], dtype=float))\n",
      "/home/gayatri/Documents/cloudy_scripts/blr/cloudy_fit_lib.py:434: RuntimeWarning: divide by zero encountered in log10\n",
      "  log_col_dens = np.log10(np.array(col_lines_split[1::2], dtype=float))\n"
     ]
    }
   ],
   "source": [
    "for i in range(len(logN_HI_arr_main)):\n",
    "    \n",
    "    logN_HI = logN_HI_arr_main[i]\n",
    "    \n",
    "    # The filename corresponding to the current stopping HI column density\n",
    "    filename = file_list_main[i]\n",
    "    \n",
    "    # Get list of densities and metallicities for this stopping HI column density \n",
    "    log_hdens_grid, log_metals_grid = read_grd_file(rootdir, filename)\n",
    "        \n",
    "    # Get average (log) HI temperatures for all grid points\n",
    "    log_temps_grid = read_avr_file(rootdir, filename)\n",
    "    \n",
    "    # Get column densities for all species\n",
    "    species_names, log_col_dens_grid = read_col_file(rootdir, filename)\n",
    "    \n",
    "    for j in range(len(log_hdens_arr_main)):\n",
    "        \n",
    "        log_hdens = log_hdens_arr_main[j]\n",
    "        \n",
    "        for k in range(len(log_metals_arr_main)):\n",
    "            \n",
    "            log_metals = log_metals_arr_main[k]\n",
    "            \n",
    "            # Get grid index number for the current n_H and metallicity\n",
    "            idx = np.intersect1d(np.where(log_hdens_grid==log_hdens)[0], np.where(log_metals_grid==log_metals)[0])[0]\n",
    "            # Isolate the average temperature and column density for all species\n",
    "            log_temp = log_temps_grid[idx]\n",
    "            logT_grid_final[i,j,k] = log_temp\n",
    "            log_col_dens = log_col_dens_grid[idx]\n",
    "            \n",
    "            # For each species\n",
    "            for l in range(len(species_names)):\n",
    "                \n",
    "                s = species_names[l]\n",
    "                \n",
    "                if s not in species_logN_samples_final.keys():\n",
    "                    \n",
    "                    species_logN_samples_final[s] = -99.*np.ones((len(logN_HI_arr_main), \n",
    "                                                            len(log_hdens_arr_main),\n",
    "                                                            len(log_metals_arr_main)))\n",
    "                \n",
    "                # Check for converged logN(HI)\n",
    "                if np.round(log_col_dens[0],2) == logN_HI:\n",
    "                    species_logN_samples_final[s][i,j,k] = log_col_dens[l]"
   ]
  },
  {
   "cell_type": "code",
   "execution_count": 60,
   "id": "1967788d",
   "metadata": {},
   "outputs": [],
   "source": [
    "unique, counts = np.unique(species_logN_samples_final['#column density H'].flatten(), return_counts=True)"
   ]
  },
  {
   "cell_type": "code",
   "execution_count": 61,
   "id": "0ac322bf",
   "metadata": {},
   "outputs": [
    {
     "data": {
      "text/plain": [
       "array([132, 132])"
      ]
     },
     "execution_count": 61,
     "metadata": {},
     "output_type": "execute_result"
    }
   ],
   "source": [
    "counts"
   ]
  },
  {
   "cell_type": "markdown",
   "id": "bee5f21f",
   "metadata": {},
   "source": [
    "Load the subgrid."
   ]
  },
  {
   "cell_type": "code",
   "execution_count": 62,
   "id": "83a87df0",
   "metadata": {},
   "outputs": [
    {
     "data": {
      "text/plain": [
       "264"
      ]
     },
     "execution_count": 62,
     "metadata": {},
     "output_type": "execute_result"
    }
   ],
   "source": [
    "logN_HI_min_sub = 12\n",
    "logN_HI_max_sub = 12.25\n",
    "logN_HI_step_sub = 0.25\n",
    "\n",
    "logN_HI_arr_sub = np.arange(logN_HI_min_sub, logN_HI_max_sub+logN_HI_step_sub, logN_HI_step_sub)\n",
    "\n",
    "file_list_sub = create_grid_file_list(logN_HI_arr_sub)\n",
    "\n",
    "log_hdens_min_sub = -4.25\n",
    "log_hdens_max_sub = 1\n",
    "log_hdens_step_sub = 0.25\n",
    "\n",
    "log_hdens_arr_sub = np.arange(log_hdens_min_sub, log_hdens_max_sub+log_hdens_step_sub, log_hdens_step_sub)\n",
    "\n",
    "log_metals_min_sub = -0.25\n",
    "log_metals_max_sub = 1\n",
    "log_metals_step_sub = 0.25\n",
    "\n",
    "log_metals_arr_sub = np.arange(log_metals_min_sub, log_metals_max_sub+log_metals_step_sub, log_metals_step_sub)\n",
    "\n",
    "# Total number of grid points\n",
    "len(logN_HI_arr_sub)*len(log_hdens_arr_sub)*len(log_metals_arr_sub)"
   ]
  },
  {
   "cell_type": "code",
   "execution_count": 63,
   "id": "f777e838",
   "metadata": {},
   "outputs": [],
   "source": [
    "species_logN_samples_sub = {}\n",
    "logT_grid_sub = np.zeros((len(logN_HI_arr_sub), len(log_hdens_arr_sub), len(log_metals_arr_sub)))"
   ]
  },
  {
   "cell_type": "code",
   "execution_count": 64,
   "id": "376c77e5",
   "metadata": {},
   "outputs": [
    {
     "name": "stderr",
     "output_type": "stream",
     "text": [
      "/home/gayatri/Documents/cloudy_scripts/blr/cloudy_fit_lib.py:434: RuntimeWarning: divide by zero encountered in log10\n",
      "  log_col_dens = np.log10(np.array(col_lines_split[1::2], dtype=float))\n",
      "/home/gayatri/Documents/cloudy_scripts/blr/cloudy_fit_lib.py:434: RuntimeWarning: divide by zero encountered in log10\n",
      "  log_col_dens = np.log10(np.array(col_lines_split[1::2], dtype=float))\n"
     ]
    }
   ],
   "source": [
    "for i in range(len(logN_HI_arr_sub)):\n",
    "    \n",
    "    logN_HI = logN_HI_arr_sub[i]\n",
    "    \n",
    "    # The filename corresponding to the current stopping HI column density\n",
    "    filename = file_list_sub[i]\n",
    "    \n",
    "    # Get list of densities and metallicities for this stopping HI column density \n",
    "    log_hdens_grid, log_metals_grid = read_grd_file(rootdir, filename)\n",
    "    \n",
    "    # Get average (log) HI temperatures for all grid points\n",
    "    log_temps_grid = read_avr_file(rootdir, filename)\n",
    "    \n",
    "    # Get column densities for all species\n",
    "    species_names, log_col_dens_grid = read_col_file(rootdir, filename)\n",
    "    \n",
    "    for j in range(len(log_hdens_arr_sub)):\n",
    "        \n",
    "        log_hdens = log_hdens_arr_sub[j]\n",
    "        \n",
    "        for k in range(len(log_metals_arr_sub)):\n",
    "            \n",
    "            log_metals = log_metals_arr_sub[k]\n",
    "            \n",
    "            # Get grid index number for the current n_H and metallicity\n",
    "            idx = np.intersect1d(np.where(log_hdens_grid==log_hdens)[0], np.where(log_metals_grid==log_metals)[0])[0]\n",
    "            \n",
    "            # Isolate the average temperature and column density for all species\n",
    "            log_temp = log_temps_grid[idx]\n",
    "            logT_grid_sub[i,j,k] = log_temp\n",
    "            \n",
    "            log_col_dens = log_col_dens_grid[idx]\n",
    "            \n",
    "            # For each species\n",
    "            for l in range(len(species_names)):\n",
    "                \n",
    "                s = species_names[l]\n",
    "                \n",
    "                if s not in species_logN_samples_sub.keys():\n",
    "                    \n",
    "                    species_logN_samples_sub[s] = -99.*np.ones((len(logN_HI_arr_sub), \n",
    "                                                            len(log_hdens_arr_sub),\n",
    "                                                            len(log_metals_arr_sub)))\n",
    "                \n",
    "                # Check for converged logN(HI)\n",
    "                if np.round(log_col_dens[0],2) == logN_HI:\n",
    "                    species_logN_samples_sub[s][i,j,k] = log_col_dens[l]"
   ]
  },
  {
   "cell_type": "code",
   "execution_count": 65,
   "id": "a05fb839",
   "metadata": {},
   "outputs": [],
   "source": [
    "# Consider a low temperature failure\n",
    "for f in range(len(low_temp_failures)):\n",
    "    # Register the \"coordinates\" of the failed grid point\n",
    "    logN_HI = low_temp_failures[f][0]\n",
    "    log_hdens = low_temp_failures[f][1]\n",
    "    log_metals = low_temp_failures[f][2]\n",
    "\n",
    "    # Get indices for the grid point in the main grid\n",
    "    idx_logN_HI_main = np.where(logN_HI_arr_main==logN_HI)[0][0]\n",
    "    idx_log_hdens_main = np.where(log_hdens_arr_main==log_hdens)[0][0]\n",
    "    idx_log_metals_main = np.where(log_metals_arr_main==log_metals)[0][0]\n",
    "\n",
    "    # Get indices for the grid point in the subgrid\n",
    "    idx_logN_HI_sub = np.where(logN_HI_arr_sub==logN_HI)[0][0]\n",
    "    idx_log_hdens_sub = np.where(log_hdens_arr_sub==log_hdens)[0][0]\n",
    "    idx_log_metals_sub = np.where(log_metals_arr_sub==log_metals)[0][0]\n",
    "    \n",
    "    # For each species\n",
    "    for l in range(len(species_logN_samples_final)):\n",
    "\n",
    "        s = list(species_logN_samples_final.keys())[l]\n",
    "        # Set the temperature column density for the species in the final grid to that taken from the subgrid\n",
    "        logT_grid_final[idx_logN_HI_main,idx_log_hdens_main,idx_log_metals_main] = logT_grid_sub[idx_logN_HI_sub,idx_log_hdens_sub,idx_log_metals_sub]\n",
    "        species_logN_samples_final[s][idx_logN_HI_main, idx_log_hdens_main, idx_log_metals_main] = species_logN_samples_sub[s][idx_logN_HI_sub, idx_log_hdens_sub, idx_log_metals_sub]"
   ]
  },
  {
   "cell_type": "code",
   "execution_count": 66,
   "id": "4cae0473",
   "metadata": {},
   "outputs": [
    {
     "data": {
      "text/plain": [
       "array([132, 132])"
      ]
     },
     "execution_count": 66,
     "metadata": {},
     "output_type": "execute_result"
    }
   ],
   "source": [
    "unique, counts = np.unique(species_logN_samples_final['#column density H'].flatten(), return_counts=True)\n",
    "counts"
   ]
  },
  {
   "cell_type": "code",
   "execution_count": 67,
   "id": "1b6fa166",
   "metadata": {},
   "outputs": [
    {
     "data": {
      "text/plain": [
       "25"
      ]
     },
     "execution_count": 67,
     "metadata": {},
     "output_type": "execute_result"
    }
   ],
   "source": [
    "grid_points_ext = np.array([[16.  , -4.25,  1.  ],\n",
    "       [16.25, -5.  ,  1.  ],\n",
    "       [16.25, -4.75,  1.  ],\n",
    "       [16.25, -4.5 ,  1.  ],\n",
    "       [16.25, -4.25,  1.  ],\n",
    "       [16.5 , -5.  ,  0.75],\n",
    "       [16.5 , -5.  ,  1.  ],\n",
    "       [16.5 , -4.75,  0.75],\n",
    "       [16.5 , -4.75,  1.  ],\n",
    "       [16.5 , -4.5 ,  1.  ],\n",
    "       [16.5 , -4.25,  1.  ],\n",
    "       [16.75, -5.  ,  0.75],\n",
    "       [16.75, -5.  ,  1.  ],\n",
    "       [16.75, -4.75,  0.75],\n",
    "       [16.75, -4.75,  1.  ],\n",
    "       [16.75, -4.5 ,  0.75],\n",
    "       [16.75, -4.5 ,  1.  ],\n",
    "       [16.75, -4.25,  1.  ],\n",
    "       [17.  , -5.  ,  0.75],\n",
    "       [17.  , -5.  ,  1.  ],\n",
    "       [17.  , -4.75,  0.75],\n",
    "       [17.  , -4.75,  1.  ],\n",
    "       [17.  , -4.5 ,  0.75],\n",
    "       [17.  , -4.5 ,  1.  ],\n",
    "       [17.  , -4.25,  1.  ]])\n",
    "\n",
    "len(grid_points_ext)"
   ]
  },
  {
   "cell_type": "code",
   "execution_count": 68,
   "id": "59de1228",
   "metadata": {},
   "outputs": [],
   "source": [
    "# For each species\n",
    "for l in range(len(species_logN_samples_final)):\n",
    "    \n",
    "    s = list(species_logN_samples_final.keys())[l]\n",
    "    \n",
    "    # Consider a high temperature failure\n",
    "    # These exactly grid_points_ext (excepting any extra column)\n",
    "    for f in range(len(high_temp_failures)):\n",
    "        \n",
    "        # Register the \"coordinates\" of the failed grid point\n",
    "        logN_HI = high_temp_failures[f][0]\n",
    "        log_hdens = high_temp_failures[f][1]\n",
    "        log_metals = high_temp_failures[f][2]\n",
    "        \n",
    "        # Get indices for the grid point in the main grid\n",
    "        idx_logN_HI_main = np.where(logN_HI_arr_main==logN_HI)[0]\n",
    "        idx_log_hdens_main = np.where(log_hdens_arr_main==log_hdens)[0]\n",
    "        idx_log_metals_main = np.where(log_metals_arr_main==log_metals)[0]\n",
    "        \n",
    "        # Set the temperature column density for the species in the final grid to that taken from the subgrid\n",
    "        logT_grid_final[idx_logN_HI_main, idx_log_hdens_main, idx_log_metals_main] = logT_ext_grid[f]\n",
    "        species_logN_samples_final[s][idx_logN_HI_main, idx_log_hdens_main, idx_log_metals_main] = species_logN_samples_ext[s][f]\n"
   ]
  },
  {
   "cell_type": "code",
   "execution_count": 69,
   "id": "2090f0a7",
   "metadata": {},
   "outputs": [
    {
     "data": {
      "text/plain": [
       "array([ True,  True])"
      ]
     },
     "execution_count": 69,
     "metadata": {},
     "output_type": "execute_result"
    }
   ],
   "source": [
    "np.unique(np.round(species_logN_samples_final['#column density H'], 2)) == logN_HI_arr_main"
   ]
  },
  {
   "cell_type": "code",
   "execution_count": 70,
   "id": "621ed00e",
   "metadata": {},
   "outputs": [],
   "source": [
    "output = open(rootdir+'final_grid.pkl', 'wb')\n",
    "pickle.dump(species_logN_samples_final, output)\n",
    "output.close()"
   ]
  },
  {
   "cell_type": "code",
   "execution_count": 71,
   "id": "203d665b",
   "metadata": {},
   "outputs": [],
   "source": [
    "np.savetxt(rootdir+'final_flat_logT.dat', logT_grid_final.flatten())\n"
   ]
  },
  {
   "cell_type": "code",
   "execution_count": 72,
   "id": "e28924de",
   "metadata": {},
   "outputs": [
    {
     "name": "stderr",
     "output_type": "stream",
     "text": [
      "/tmp/ipykernel_66761/4135434002.py:25: RuntimeWarning: divide by zero encountered in log10\n",
      "  species_logf_samples_final = {s:np.log10(species_fracs_samples_final[s]) for s in list(species_fracs_samples_final.keys())}\n"
     ]
    }
   ],
   "source": [
    "species_fracs_samples_final = {s:np.zeros((len(logN_HI_arr_main),len(log_hdens_arr_main),len(log_metals_arr_main))) for s in species_names_ions}\n",
    "\n",
    "# H fractions\n",
    "N_H_grid_final = 10**species_logN_samples_final['#column density H']+10**species_logN_samples_final['H+']\n",
    "species_fracs_samples_final['#column density H'] = 10**species_logN_samples_final['#column density H']/N_H_grid_final\n",
    "species_fracs_samples_final['H+'] = 10**species_logN_samples_final['H+']/N_H_grid_final\n",
    "\n",
    "N_He_grid_final = 10**species_logN_samples_final['He']+10**species_logN_samples_final['He+']+10**species_logN_samples_final['He+2']\n",
    "species_fracs_samples_final['He'] = 10**species_logN_samples_final['He']/N_He_grid_final\n",
    "species_fracs_samples_final['He+'] = 10**species_logN_samples_final['He+']/N_He_grid_final\n",
    "species_fracs_samples_final['He+2'] = 10**species_logN_samples_final['He+2']/N_He_grid_final\n",
    "\n",
    "# Grid of metallicities\n",
    "\n",
    "log_metals_grid_final = np.zeros((len(logN_HI_arr_main),len(log_hdens_arr_main),len(log_metals_arr_main)))\n",
    "\n",
    "for i in range(len(logN_HI_arr_main)):\n",
    "    for j in range(len(log_hdens_arr_main)):\n",
    "        log_metals_grid_final[i,j,:] = log_metals_arr_main\n",
    "        \n",
    "for i in range(5,len(species_names_ions)):\n",
    "    s = species_names_ions[i]\n",
    "    species_fracs_samples_final[s] = 10**species_logN_samples_final[s]/(N_H_grid_final*10**log_metals_grid_final)\n",
    "\n",
    "species_logf_samples_final = {s:np.log10(species_fracs_samples_final[s]) for s in list(species_fracs_samples_final.keys())}\n",
    "\n",
    "output = open(rootdir+'final_grid_logf.pkl', 'wb')\n",
    "pickle.dump(species_logf_samples_final, output)\n",
    "output.close()"
   ]
  }
 ],
 "metadata": {
  "kernelspec": {
   "display_name": "tardis",
   "language": "python",
   "name": "python3"
  },
  "language_info": {
   "codemirror_mode": {
    "name": "ipython",
    "version": 3
   },
   "file_extension": ".py",
   "mimetype": "text/x-python",
   "name": "python",
   "nbconvert_exporter": "python",
   "pygments_lexer": "ipython3",
   "version": "3.11.5"
  }
 },
 "nbformat": 4,
 "nbformat_minor": 5
}
