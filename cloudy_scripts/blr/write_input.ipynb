{
 "cells": [
  {
   "cell_type": "code",
   "execution_count": 2,
   "id": "441450c5",
   "metadata": {},
   "outputs": [],
   "source": [
    "import numpy as np\n",
    "from astropy.table import Table\n",
    "import matplotlib.pyplot as plt\n",
    "import pandas as pd"
   ]
  },
  {
   "cell_type": "markdown",
   "id": "96efb79c",
   "metadata": {},
   "source": [
    "Enter the directory within which to write the CLOUDY input files"
   ]
  },
  {
   "cell_type": "code",
   "execution_count": 4,
   "id": "0659f943",
   "metadata": {},
   "outputs": [],
   "source": [
    "writedir = '/home/gayatri/Documents/cloudy_scripts/blr/grids/'"
   ]
  },
  {
   "cell_type": "code",
   "execution_count": 5,
   "id": "04f06aa4",
   "metadata": {},
   "outputs": [],
   "source": [
    "# Specify parameters for input files\n",
    "z = 0.226\n",
    "\n",
    "N_HI_min = 12\n",
    "N_HI_max = 17\n",
    "N_HI_step = 0.25\n",
    "\n",
    "hdens_min = -4.25\n",
    "hdens_max = 1\n",
    "hdens_step = 0.25\n",
    "\n",
    "metals_min = -0.25\n",
    "metals_max = 1\n",
    "metals_step = 0.25"
   ]
  },
  {
   "cell_type": "code",
   "execution_count": 6,
   "id": "9a7e71bd",
   "metadata": {},
   "outputs": [],
   "source": [
    "# Generate grid points\n",
    "N_HI_arr = np.arange(N_HI_min, N_HI_max+N_HI_step, N_HI_step)\n",
    "# N_HI_arr"
   ]
  },
  {
   "cell_type": "code",
   "execution_count": 7,
   "id": "3c332fb5",
   "metadata": {},
   "outputs": [],
   "source": [
    "for N_HI in N_HI_arr:\n",
    "    \n",
    "    N_HI_str = '{:.2f}'.format(N_HI).replace('.','')\n",
    "\n",
    "    with open(writedir+'igm_lalpha_hm12_grid_' + N_HI_str + '.in', 'w') as f:\n",
    "        f.write('title Ly alpha forest cloud\\n')\n",
    "        f.write('cmb z={}\\n'.format(z))\n",
    "        f.write('table hm12 z={}\\n'.format(z))\n",
    "        f.write('constant temperature 1e4k\\n') # Only for \"failed\" CLOUDY models from the master grid\n",
    "        f.write('hden -2 vary\\n')\n",
    "        f.write('grid range from {} to {} with {} dex steps\\n'.format(hdens_min, hdens_max, hdens_step))\n",
    "        f.write('metals -1.5 vary\\n')\n",
    "        f.write('grid range from {} to {} with {} dex steps\\n'.format(metals_min, metals_max, metals_step))\n",
    "        f.write('stop neutral column density {}\\n'.format(N_HI))\n",
    "        #f.write('stop temperature 10000\\n'.format(N_HI)) BAD IDEA: don't use this ok\n",
    "        f.write('double  ## mimic two-sided photoionization\\n')\n",
    "        f.write('iterate to convergence ## must iterate since optically thin\\n')\n",
    "        f.write('# commands controlling output    =========\\n')\n",
    "        f.write('print line faint -1\\n')\n",
    "        f.write('set save prefix \"igm_lalpha_hm12_grid_' + N_HI_str + '\"\\n')\n",
    "        f.write('save grid last \".grd\"\\n')\n",
    "        f.write('save species column density last \".col\" all\\n')\n",
    "        f.write('save averages \".avr\" last no clobber\\n')\n",
    "        f.write('temperature, hydrogen 1 over radius\\n')\n",
    "        f.write('end of averages')"
   ]
  },
  {
   "cell_type": "code",
   "execution_count": null,
   "id": "f535ed27",
   "metadata": {},
   "outputs": [
    {
     "name": "stdout",
     "output_type": "stream",
     "text": [
      "cloudy igm_lalpha_hm12_grid_1200\n",
      " input file \"igm_lalpha_hm12_grid_1200.in\" not found\n",
      " [Stop in cdInput at cddrive.cpp:1216, something went wrong]\n",
      "cloudy igm_lalpha_hm12_grid_1225\n",
      " input file \"igm_lalpha_hm12_grid_1225.in\" not found\n",
      " [Stop in cdInput at cddrive.cpp:1216, something went wrong]\n",
      "cloudy igm_lalpha_hm12_grid_1250\n",
      " input file \"igm_lalpha_hm12_grid_1250.in\" not found\n",
      " [Stop in cdInput at cddrive.cpp:1216, something went wrong]\n"
     ]
    }
   ],
   "source": [
    "import os\n",
    "os.chdir(path)\n",
    "for N_HI in N_HI_arr[:3]:\n",
    "    N_HI_str = '{:.2f}'.format(N_HI).replace('.','')\n",
    "    print('cloudy igm_lalpha_hm12_grid_' + N_HI_str)\n",
    "    os.system('cloudy igm_lalpha_hm12_grid_' + N_HI_str)  "
   ]
  },
  {
   "cell_type": "code",
   "execution_count": null,
   "id": "9f71fe85",
   "metadata": {},
   "outputs": [],
   "source": []
  }
 ],
 "metadata": {
  "kernelspec": {
   "display_name": "tardis",
   "language": "python",
   "name": "python3"
  },
  "language_info": {
   "codemirror_mode": {
    "name": "ipython",
    "version": 3
   },
   "file_extension": ".py",
   "mimetype": "text/x-python",
   "name": "python",
   "nbconvert_exporter": "python",
   "pygments_lexer": "ipython3",
   "version": "3.11.5"
  }
 },
 "nbformat": 4,
 "nbformat_minor": 5
}
